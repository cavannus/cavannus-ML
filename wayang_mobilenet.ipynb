{
  "nbformat": 4,
  "nbformat_minor": 0,
  "metadata": {
    "accelerator": "GPU",
    "colab": {
      "name": "wayang-mobilenet.ipynb",
      "provenance": [],
      "collapsed_sections": [],
      "include_colab_link": true
    },
    "kernelspec": {
      "display_name": "Python 3",
      "name": "python3"
    },
    "language_info": {
      "name": "python"
    }
  },
  "cells": [
    {
      "cell_type": "markdown",
      "metadata": {
        "id": "view-in-github",
        "colab_type": "text"
      },
      "source": [
        "<a href=\"https://colab.research.google.com/github/cavannus/ttow-ML/blob/main/wayang_mobilenet.ipynb\" target=\"_parent\"><img src=\"https://colab.research.google.com/assets/colab-badge.svg\" alt=\"Open In Colab\"/></a>"
      ]
    },
    {
      "cell_type": "markdown",
      "metadata": {
        "id": "kJdo0c_SN3tQ"
      },
      "source": [
        "Unzip the dataset. The dataset contains 4 classes and needs to be split into train and validation later."
      ]
    },
    {
      "cell_type": "code",
      "metadata": {
        "id": "kKt3WjQp6DN6"
      },
      "source": [
        "import os\n",
        "import zipfile\n",
        "\n",
        "# local_zip = '/content/wayang-edited-final.zip'\n",
        "local_zip = '/content/wayang-final-dataset.zip'\n",
        "\n",
        "zip_ref = zipfile.ZipFile(local_zip, 'r')\n",
        "\n",
        "zip_ref.extractall('/content')\n",
        "zip_ref.close()"
      ],
      "execution_count": 133,
      "outputs": []
    },
    {
      "cell_type": "code",
      "metadata": {
        "id": "bCtSX_z56MO3"
      },
      "source": [
        "base_dir = '/content/augmented/'"
      ],
      "execution_count": 134,
      "outputs": []
    },
    {
      "cell_type": "code",
      "metadata": {
        "id": "o3WXVo3BL0BI"
      },
      "source": [
        "IMG_WIDTH = 175\n",
        "IMG_HEIGHT = 225\n",
        "\n",
        "IMG_SIZE = (IMG_WIDTH, IMG_HEIGHT)\n",
        "IMG_SHAPE = IMG_SIZE + (3,)"
      ],
      "execution_count": 135,
      "outputs": []
    },
    {
      "cell_type": "code",
      "metadata": {
        "id": "HZS6UIgBDVKp"
      },
      "source": [
        "import tensorflow as tf"
      ],
      "execution_count": 136,
      "outputs": []
    },
    {
      "cell_type": "code",
      "metadata": {
        "id": "DyYrl5gCPUeM"
      },
      "source": [
        "train_batch = 40\n",
        "train_epoch = 80\n",
        "val_batch = 40\n",
        "val_epoch = 20"
      ],
      "execution_count": 137,
      "outputs": []
    },
    {
      "cell_type": "code",
      "metadata": {
        "colab": {
          "base_uri": "https://localhost:8080/"
        },
        "id": "hJq_UNZ6ItiU",
        "outputId": "941cce71-3268-47ad-f900-133c85ea5b48"
      },
      "source": [
        "from tensorflow.keras.preprocessing.image import ImageDataGenerator\n",
        "\n",
        "train_datagen = ImageDataGenerator(rescale = 1.0/255,\n",
        "                                   horizontal_flip = True,\n",
        "                                  #  width_shift_range = 0.1,\n",
        "                                  #  height_shift_range = 0.1,\n",
        "                                  #  fill_mode = 'nearest',\n",
        "                                  #  rotation_range=15,\n",
        "                                   zoom_range=0.2,\n",
        "                                   validation_split=0.2\n",
        "                                   )\n",
        "\n",
        "\n",
        "train_generator = train_datagen.flow_from_directory(base_dir,\n",
        "                                                    batch_size=train_batch,\n",
        "                                                    class_mode='categorical',\n",
        "                                                    target_size=(IMG_HEIGHT, IMG_WIDTH),\n",
        "                                                    shuffle=True,\n",
        "                                                    subset='training')     \n",
        "\n",
        "validation_generator =  train_datagen.flow_from_directory(base_dir,\n",
        "                                                         batch_size=val_batch,\n",
        "                                                         class_mode='categorical',\n",
        "                                                         target_size=(IMG_HEIGHT, IMG_WIDTH),\n",
        "                                                         shuffle=True,\n",
        "                                                         subset='validation')\n"
      ],
      "execution_count": 161,
      "outputs": [
        {
          "output_type": "stream",
          "text": [
            "Found 3575 images belonging to 4 classes.\n",
            "Found 893 images belonging to 4 classes.\n"
          ],
          "name": "stdout"
        }
      ]
    },
    {
      "cell_type": "code",
      "metadata": {
        "colab": {
          "base_uri": "https://localhost:8080/"
        },
        "id": "P8RF8wUm7meU",
        "outputId": "fd42defb-fac0-4163-faf4-0b7b85647a50"
      },
      "source": [
        "labels_dict = train_generator.class_indices\n",
        "wayang_labels = dict((v, k) for k, v in labels_dict.items())\n",
        "print(wayang_labels)"
      ],
      "execution_count": 139,
      "outputs": [
        {
          "output_type": "stream",
          "text": [
            "{0: 'bagong', 1: 'gareng', 2: 'petruk', 3: 'semar'}\n"
          ],
          "name": "stdout"
        }
      ]
    },
    {
      "cell_type": "code",
      "metadata": {
        "colab": {
          "base_uri": "https://localhost:8080/"
        },
        "id": "bcox_wfP4K6o",
        "outputId": "b0b390e4-6078-419a-f48f-1eb6dc916770"
      },
      "source": [
        "import os\n",
        "\n",
        "dataset_counts = []\n",
        "total_dataset_count = 0\n",
        "\n",
        "for root, _, fileList in os.walk('./augmented/'):\n",
        "    for _, label in wayang_labels.items():\n",
        "        if label in root:\n",
        "            dataset_counts.append(len(fileList))\n",
        "            total_dataset_count += len(fileList)\n",
        "\n",
        "print(dataset_counts, total_dataset_count)"
      ],
      "execution_count": 140,
      "outputs": [
        {
          "output_type": "stream",
          "text": [
            "[1100, 1040, 1120, 1208] 4468\n"
          ],
          "name": "stdout"
        }
      ]
    },
    {
      "cell_type": "markdown",
      "metadata": {
        "id": "cwS3VMFF6DM_"
      },
      "source": [
        "Since we are working with imbalanced dataset, we will use class weights in the model."
      ]
    },
    {
      "cell_type": "code",
      "metadata": {
        "colab": {
          "base_uri": "https://localhost:8080/"
        },
        "id": "SoRIpLO54gAG",
        "outputId": "c9335a41-79a1-4eb8-d945-cd33a630a314"
      },
      "source": [
        "import sklearn\n",
        "import numpy as np\n",
        "\n",
        "# class_weight_list = sklearn.utils.class_weight.compute_class_weight('balanced',\n",
        "#                                                                np.unique(train_generator.classes),\n",
        "#                                                                train_generator.classes)\n",
        "\n",
        "# class_weights = {}\n",
        "\n",
        "# for k, _ in wayang_labels.items():\n",
        "#   class_weights[k] = class_weight_list[k]\n",
        "\n",
        "class_weights = {0: 0.9147058823529411, 1: 1.4136363636363636, 2: 1.0798611111111112, 3: 0.7853535353535354}\n",
        "\n",
        "print(class_weights)"
      ],
      "execution_count": 141,
      "outputs": [
        {
          "output_type": "stream",
          "text": [
            "{0: 0.9147058823529411, 1: 1.4136363636363636, 2: 1.0798611111111112, 3: 0.7853535353535354}\n"
          ],
          "name": "stdout"
        }
      ]
    },
    {
      "cell_type": "markdown",
      "metadata": {
        "id": "sE05Y9LwOH87"
      },
      "source": [
        "This part defines the model used for transfer learning, which is MobileNetV2."
      ]
    },
    {
      "cell_type": "code",
      "metadata": {
        "colab": {
          "base_uri": "https://localhost:8080/"
        },
        "id": "Irn3yMPXL5FK",
        "outputId": "704ffbaf-de9b-443e-f35c-aee104184852"
      },
      "source": [
        "base_model = tf.keras.applications.MobileNetV2(input_shape=IMG_SHAPE,\n",
        "                                               include_top=False,\n",
        "                                               weights='imagenet')\n",
        "# base_model.summary()"
      ],
      "execution_count": 180,
      "outputs": [
        {
          "output_type": "stream",
          "text": [
            "WARNING:tensorflow:`input_shape` is undefined or non-square, or `rows` is not in [96, 128, 160, 192, 224]. Weights for input shape (224, 224) will be loaded as the default.\n"
          ],
          "name": "stdout"
        },
        {
          "output_type": "stream",
          "text": [
            "WARNING:tensorflow:`input_shape` is undefined or non-square, or `rows` is not in [96, 128, 160, 192, 224]. Weights for input shape (224, 224) will be loaded as the default.\n"
          ],
          "name": "stderr"
        }
      ]
    },
    {
      "cell_type": "markdown",
      "metadata": {
        "id": "SwOh1r_iOUW3"
      },
      "source": [
        "Fine tuning on MobileNet by unfreezing the first 75 layer of the model"
      ]
    },
    {
      "cell_type": "code",
      "metadata": {
        "id": "t9xFdTzAqeuF"
      },
      "source": [
        "base_model.trainable = True\n",
        "\n",
        "for layer in base_model.layers[:25]:\n",
        "  layer.trainable = False"
      ],
      "execution_count": 181,
      "outputs": []
    },
    {
      "cell_type": "code",
      "metadata": {
        "id": "HOKIyZErMpZ7"
      },
      "source": [
        "inputs = tf.keras.Input(shape=IMG_SHAPE)\n",
        "x = base_model(inputs, training=False)\n",
        "x = tf.keras.layers.GlobalAveragePooling2D()(x)\n",
        "x = tf.keras.layers.Dropout(0.2)(x)\n",
        "x = tf.keras.layers.Dense(16)(x)\n",
        "x = tf.keras.layers.Dropout(0.2)(x)\n",
        "x = tf.keras.layers.Dense(32)(x)\n",
        "x = tf.keras.layers.Dropout(0.2)(x)\n",
        "x = tf.keras.layers.Dense(64)(x)\n",
        "x = tf.keras.layers.Dropout(0.2)(x)\n",
        "x = tf.keras.layers.Dense(32)(x)\n",
        "x = tf.keras.layers.Dropout(0.2)(x)\n",
        "x = tf.keras.layers.Dense(16)(x)\n",
        "outputs = tf.keras.layers.Dense(4, activation='softmax')(x)\n",
        "model = tf.keras.Model(inputs, outputs)"
      ],
      "execution_count": 182,
      "outputs": []
    },
    {
      "cell_type": "code",
      "metadata": {
        "colab": {
          "base_uri": "https://localhost:8080/"
        },
        "id": "6cI1_bJtNWT4",
        "outputId": "34e77734-6dd6-4740-dd5f-9d3d9cdcd5ea"
      },
      "source": [
        "model.compile(optimizer=tf.keras.optimizers.Adam(learning_rate=4e-7),\n",
        "              loss='categorical_crossentropy',\n",
        "              metrics=['accuracy'])\n",
        "model.summary()"
      ],
      "execution_count": 192,
      "outputs": [
        {
          "output_type": "stream",
          "text": [
            "Model: \"model_13\"\n",
            "_________________________________________________________________\n",
            "Layer (type)                 Output Shape              Param #   \n",
            "=================================================================\n",
            "input_25 (InputLayer)        [(None, 175, 225, 3)]     0         \n",
            "_________________________________________________________________\n",
            "mobilenetv2_1.00_224 (Functi (None, 6, 8, 1280)        2257984   \n",
            "_________________________________________________________________\n",
            "global_average_pooling2d_13  (None, 1280)              0         \n",
            "_________________________________________________________________\n",
            "dropout_56 (Dropout)         (None, 1280)              0         \n",
            "_________________________________________________________________\n",
            "dense_78 (Dense)             (None, 16)                20496     \n",
            "_________________________________________________________________\n",
            "dropout_57 (Dropout)         (None, 16)                0         \n",
            "_________________________________________________________________\n",
            "dense_79 (Dense)             (None, 32)                544       \n",
            "_________________________________________________________________\n",
            "dropout_58 (Dropout)         (None, 32)                0         \n",
            "_________________________________________________________________\n",
            "dense_80 (Dense)             (None, 64)                2112      \n",
            "_________________________________________________________________\n",
            "dropout_59 (Dropout)         (None, 64)                0         \n",
            "_________________________________________________________________\n",
            "dense_81 (Dense)             (None, 32)                2080      \n",
            "_________________________________________________________________\n",
            "dropout_60 (Dropout)         (None, 32)                0         \n",
            "_________________________________________________________________\n",
            "dense_82 (Dense)             (None, 16)                528       \n",
            "_________________________________________________________________\n",
            "dense_83 (Dense)             (None, 4)                 68        \n",
            "=================================================================\n",
            "Total params: 2,283,812\n",
            "Trainable params: 2,233,956\n",
            "Non-trainable params: 49,856\n",
            "_________________________________________________________________\n"
          ],
          "name": "stdout"
        }
      ]
    },
    {
      "cell_type": "code",
      "metadata": {
        "id": "LCtyYi5nL3lS"
      },
      "source": [
        "class Acc_Callback(tf.keras.callbacks.Callback):\n",
        "  def on_epoch_end(self, epoch, logs):\n",
        "    if logs['accuracy'] > 0.95:\n",
        "      print('\\nAccuracy is more than 95%')\n",
        "      self.model.stop_training = True\n",
        "    elif logs['val_accuracy'] > 0.95:\n",
        "      print('\\nVal-Accuracy is more than 95%')\n",
        "      self.model.stop_training = True\n",
        "\n",
        "earlyStop = tf.keras.callbacks.EarlyStopping(monitor='accuracy', min_delta=1e-5, patience=5)\n",
        "\n",
        "callbacks = [Acc_Callback(),\n",
        "            #  earlyStop,\n",
        "             ]"
      ],
      "execution_count": 193,
      "outputs": []
    },
    {
      "cell_type": "code",
      "metadata": {
        "colab": {
          "base_uri": "https://localhost:8080/"
        },
        "id": "74db67YlJ8Rj",
        "outputId": "086fc02e-3444-408b-a4cf-5b91018a0021"
      },
      "source": [
        "history = model.fit(train_generator,\n",
        "                    validation_data=validation_generator,\n",
        "                    steps_per_epoch=train_batch,\n",
        "                    epochs=train_epoch,\n",
        "                    validation_steps=val_epoch,\n",
        "                    verbose=2,\n",
        "                    callbacks=callbacks,\n",
        "                    class_weight=class_weights)"
      ],
      "execution_count": 194,
      "outputs": [
        {
          "output_type": "stream",
          "text": [
            "Epoch 1/80\n",
            "40/40 - 25s - loss: 0.5142 - accuracy: 0.7956 - val_loss: 0.3799 - val_accuracy: 0.8562\n",
            "Epoch 2/80\n",
            "40/40 - 20s - loss: 0.4830 - accuracy: 0.8095 - val_loss: 0.4013 - val_accuracy: 0.8450\n",
            "Epoch 3/80\n",
            "40/40 - 20s - loss: 0.4484 - accuracy: 0.8238 - val_loss: 0.3803 - val_accuracy: 0.8612\n",
            "Epoch 4/80\n",
            "40/40 - 20s - loss: 0.4540 - accuracy: 0.8203 - val_loss: 0.4046 - val_accuracy: 0.8388\n",
            "Epoch 5/80\n",
            "40/40 - 20s - loss: 0.4120 - accuracy: 0.8381 - val_loss: 0.3794 - val_accuracy: 0.8650\n",
            "Epoch 6/80\n",
            "40/40 - 20s - loss: 0.4547 - accuracy: 0.8175 - val_loss: 0.3827 - val_accuracy: 0.8725\n",
            "Epoch 7/80\n",
            "40/40 - 19s - loss: 0.4725 - accuracy: 0.8032 - val_loss: 0.3969 - val_accuracy: 0.8587\n",
            "Epoch 8/80\n",
            "40/40 - 19s - loss: 0.4606 - accuracy: 0.8197 - val_loss: 0.3753 - val_accuracy: 0.8750\n",
            "Epoch 9/80\n",
            "40/40 - 20s - loss: 0.4415 - accuracy: 0.8363 - val_loss: 0.3531 - val_accuracy: 0.8800\n",
            "Epoch 10/80\n",
            "40/40 - 19s - loss: 0.4769 - accuracy: 0.8044 - val_loss: 0.3543 - val_accuracy: 0.8825\n",
            "Epoch 11/80\n",
            "40/40 - 20s - loss: 0.4135 - accuracy: 0.8425 - val_loss: 0.3657 - val_accuracy: 0.8700\n",
            "Epoch 12/80\n",
            "40/40 - 20s - loss: 0.4221 - accuracy: 0.8343 - val_loss: 0.3562 - val_accuracy: 0.8737\n",
            "Epoch 13/80\n",
            "40/40 - 20s - loss: 0.4518 - accuracy: 0.8171 - val_loss: 0.3714 - val_accuracy: 0.8575\n",
            "Epoch 14/80\n",
            "40/40 - 20s - loss: 0.4381 - accuracy: 0.8269 - val_loss: 0.3748 - val_accuracy: 0.8700\n",
            "Epoch 15/80\n",
            "40/40 - 20s - loss: 0.4688 - accuracy: 0.8175 - val_loss: 0.3615 - val_accuracy: 0.8913\n",
            "Epoch 16/80\n",
            "40/40 - 19s - loss: 0.4192 - accuracy: 0.8368 - val_loss: 0.3558 - val_accuracy: 0.8838\n",
            "Epoch 17/80\n",
            "40/40 - 20s - loss: 0.4095 - accuracy: 0.8381 - val_loss: 0.3661 - val_accuracy: 0.8737\n",
            "Epoch 18/80\n",
            "40/40 - 19s - loss: 0.4387 - accuracy: 0.8241 - val_loss: 0.3533 - val_accuracy: 0.8763\n",
            "Epoch 19/80\n",
            "40/40 - 20s - loss: 0.4303 - accuracy: 0.8438 - val_loss: 0.3640 - val_accuracy: 0.8737\n",
            "Epoch 20/80\n",
            "40/40 - 20s - loss: 0.4351 - accuracy: 0.8343 - val_loss: 0.3629 - val_accuracy: 0.8650\n",
            "Epoch 21/80\n",
            "40/40 - 19s - loss: 0.4254 - accuracy: 0.8171 - val_loss: 0.3533 - val_accuracy: 0.8800\n",
            "Epoch 22/80\n",
            "40/40 - 19s - loss: 0.4123 - accuracy: 0.8381 - val_loss: 0.3582 - val_accuracy: 0.8725\n",
            "Epoch 23/80\n",
            "40/40 - 19s - loss: 0.4280 - accuracy: 0.8267 - val_loss: 0.3362 - val_accuracy: 0.8925\n",
            "Epoch 24/80\n",
            "40/40 - 20s - loss: 0.4067 - accuracy: 0.8306 - val_loss: 0.3657 - val_accuracy: 0.8650\n",
            "Epoch 25/80\n",
            "40/40 - 20s - loss: 0.3893 - accuracy: 0.8544 - val_loss: 0.3423 - val_accuracy: 0.8788\n",
            "Epoch 26/80\n",
            "40/40 - 20s - loss: 0.3998 - accuracy: 0.8413 - val_loss: 0.3554 - val_accuracy: 0.8750\n",
            "Epoch 27/80\n",
            "40/40 - 20s - loss: 0.4016 - accuracy: 0.8350 - val_loss: 0.3413 - val_accuracy: 0.8875\n",
            "Epoch 28/80\n",
            "40/40 - 20s - loss: 0.3714 - accuracy: 0.8494 - val_loss: 0.3360 - val_accuracy: 0.8763\n",
            "Epoch 29/80\n",
            "40/40 - 19s - loss: 0.3875 - accuracy: 0.8400 - val_loss: 0.3307 - val_accuracy: 0.8850\n",
            "Epoch 30/80\n",
            "40/40 - 19s - loss: 0.3942 - accuracy: 0.8470 - val_loss: 0.3274 - val_accuracy: 0.8763\n",
            "Epoch 31/80\n",
            "40/40 - 20s - loss: 0.4050 - accuracy: 0.8306 - val_loss: 0.3406 - val_accuracy: 0.8800\n",
            "Epoch 32/80\n",
            "40/40 - 20s - loss: 0.3789 - accuracy: 0.8512 - val_loss: 0.3261 - val_accuracy: 0.8900\n",
            "Epoch 33/80\n",
            "40/40 - 20s - loss: 0.3810 - accuracy: 0.8463 - val_loss: 0.3083 - val_accuracy: 0.9000\n",
            "Epoch 34/80\n",
            "40/40 - 20s - loss: 0.3859 - accuracy: 0.8569 - val_loss: 0.3245 - val_accuracy: 0.8775\n",
            "Epoch 35/80\n",
            "40/40 - 19s - loss: 0.4170 - accuracy: 0.8432 - val_loss: 0.3261 - val_accuracy: 0.8750\n",
            "Epoch 36/80\n",
            "40/40 - 20s - loss: 0.4040 - accuracy: 0.8431 - val_loss: 0.3233 - val_accuracy: 0.8838\n",
            "Epoch 37/80\n",
            "40/40 - 20s - loss: 0.3790 - accuracy: 0.8637 - val_loss: 0.3218 - val_accuracy: 0.8975\n",
            "Epoch 38/80\n",
            "40/40 - 19s - loss: 0.3898 - accuracy: 0.8432 - val_loss: 0.3277 - val_accuracy: 0.8750\n",
            "Epoch 39/80\n",
            "40/40 - 20s - loss: 0.3556 - accuracy: 0.8656 - val_loss: 0.3267 - val_accuracy: 0.8938\n",
            "Epoch 40/80\n",
            "40/40 - 20s - loss: 0.3657 - accuracy: 0.8556 - val_loss: 0.3261 - val_accuracy: 0.8788\n",
            "Epoch 41/80\n",
            "40/40 - 19s - loss: 0.3776 - accuracy: 0.8552 - val_loss: 0.3114 - val_accuracy: 0.8813\n",
            "Epoch 42/80\n",
            "40/40 - 20s - loss: 0.3619 - accuracy: 0.8519 - val_loss: 0.3088 - val_accuracy: 0.8875\n",
            "Epoch 43/80\n",
            "40/40 - 20s - loss: 0.3871 - accuracy: 0.8512 - val_loss: 0.3091 - val_accuracy: 0.8875\n",
            "Epoch 44/80\n",
            "40/40 - 19s - loss: 0.3426 - accuracy: 0.8590 - val_loss: 0.3165 - val_accuracy: 0.8875\n",
            "Epoch 45/80\n",
            "40/40 - 20s - loss: 0.3337 - accuracy: 0.8717 - val_loss: 0.3044 - val_accuracy: 0.8788\n",
            "Epoch 46/80\n",
            "40/40 - 19s - loss: 0.3721 - accuracy: 0.8521 - val_loss: 0.3274 - val_accuracy: 0.8775\n",
            "Epoch 47/80\n",
            "40/40 - 20s - loss: 0.3683 - accuracy: 0.8519 - val_loss: 0.3102 - val_accuracy: 0.8888\n",
            "Epoch 48/80\n",
            "40/40 - 20s - loss: 0.3430 - accuracy: 0.8687 - val_loss: 0.3115 - val_accuracy: 0.8800\n",
            "Epoch 49/80\n",
            "40/40 - 19s - loss: 0.3601 - accuracy: 0.8565 - val_loss: 0.3219 - val_accuracy: 0.8850\n",
            "Epoch 50/80\n",
            "40/40 - 20s - loss: 0.3671 - accuracy: 0.8512 - val_loss: 0.3127 - val_accuracy: 0.8900\n",
            "Epoch 51/80\n",
            "40/40 - 20s - loss: 0.3580 - accuracy: 0.8656 - val_loss: 0.3149 - val_accuracy: 0.8788\n",
            "Epoch 52/80\n",
            "40/40 - 20s - loss: 0.3485 - accuracy: 0.8662 - val_loss: 0.3294 - val_accuracy: 0.8788\n",
            "Epoch 53/80\n",
            "40/40 - 19s - loss: 0.3507 - accuracy: 0.8654 - val_loss: 0.3156 - val_accuracy: 0.8750\n",
            "Epoch 54/80\n",
            "40/40 - 20s - loss: 0.3638 - accuracy: 0.8575 - val_loss: 0.3183 - val_accuracy: 0.8850\n",
            "Epoch 55/80\n",
            "40/40 - 19s - loss: 0.3343 - accuracy: 0.8698 - val_loss: 0.2977 - val_accuracy: 0.9000\n",
            "Epoch 56/80\n",
            "40/40 - 19s - loss: 0.3212 - accuracy: 0.8692 - val_loss: 0.2914 - val_accuracy: 0.8963\n",
            "Epoch 57/80\n",
            "40/40 - 20s - loss: 0.3307 - accuracy: 0.8730 - val_loss: 0.2893 - val_accuracy: 0.8863\n",
            "Epoch 58/80\n",
            "40/40 - 20s - loss: 0.3319 - accuracy: 0.8637 - val_loss: 0.3129 - val_accuracy: 0.8737\n",
            "Epoch 59/80\n",
            "40/40 - 19s - loss: 0.3302 - accuracy: 0.8705 - val_loss: 0.3027 - val_accuracy: 0.8913\n",
            "Epoch 60/80\n",
            "40/40 - 20s - loss: 0.3321 - accuracy: 0.8875 - val_loss: 0.3010 - val_accuracy: 0.8875\n",
            "Epoch 61/80\n",
            "40/40 - 20s - loss: 0.3307 - accuracy: 0.8705 - val_loss: 0.3026 - val_accuracy: 0.8913\n",
            "Epoch 62/80\n",
            "40/40 - 20s - loss: 0.3169 - accuracy: 0.8813 - val_loss: 0.3032 - val_accuracy: 0.8838\n",
            "Epoch 63/80\n",
            "40/40 - 20s - loss: 0.3427 - accuracy: 0.8694 - val_loss: 0.2911 - val_accuracy: 0.8938\n",
            "Epoch 64/80\n",
            "40/40 - 19s - loss: 0.3459 - accuracy: 0.8552 - val_loss: 0.2742 - val_accuracy: 0.9087\n",
            "Epoch 65/80\n",
            "40/40 - 20s - loss: 0.3351 - accuracy: 0.8762 - val_loss: 0.2763 - val_accuracy: 0.8963\n",
            "Epoch 66/80\n",
            "40/40 - 20s - loss: 0.3114 - accuracy: 0.8850 - val_loss: 0.2973 - val_accuracy: 0.8950\n",
            "Epoch 67/80\n",
            "40/40 - 20s - loss: 0.3321 - accuracy: 0.8781 - val_loss: 0.2875 - val_accuracy: 0.8888\n",
            "Epoch 68/80\n",
            "40/40 - 20s - loss: 0.3123 - accuracy: 0.8819 - val_loss: 0.2901 - val_accuracy: 0.8888\n",
            "Epoch 69/80\n",
            "40/40 - 19s - loss: 0.3292 - accuracy: 0.8762 - val_loss: 0.2735 - val_accuracy: 0.9050\n",
            "Epoch 70/80\n",
            "40/40 - 19s - loss: 0.3491 - accuracy: 0.8629 - val_loss: 0.2761 - val_accuracy: 0.8950\n",
            "Epoch 71/80\n",
            "40/40 - 19s - loss: 0.3139 - accuracy: 0.8863 - val_loss: 0.2760 - val_accuracy: 0.8975\n",
            "Epoch 72/80\n",
            "40/40 - 20s - loss: 0.3216 - accuracy: 0.8769 - val_loss: 0.2838 - val_accuracy: 0.8988\n",
            "Epoch 73/80\n",
            "40/40 - 20s - loss: 0.3318 - accuracy: 0.8788 - val_loss: 0.2702 - val_accuracy: 0.9025\n",
            "Epoch 74/80\n",
            "40/40 - 19s - loss: 0.3004 - accuracy: 0.8819 - val_loss: 0.2721 - val_accuracy: 0.8988\n",
            "Epoch 75/80\n",
            "40/40 - 20s - loss: 0.3130 - accuracy: 0.8838 - val_loss: 0.2743 - val_accuracy: 0.9062\n",
            "Epoch 76/80\n",
            "40/40 - 20s - loss: 0.3009 - accuracy: 0.8819 - val_loss: 0.2759 - val_accuracy: 0.9062\n",
            "Epoch 77/80\n",
            "40/40 - 19s - loss: 0.3118 - accuracy: 0.8763 - val_loss: 0.2679 - val_accuracy: 0.9050\n",
            "Epoch 78/80\n",
            "40/40 - 19s - loss: 0.2815 - accuracy: 0.8946 - val_loss: 0.2621 - val_accuracy: 0.9062\n",
            "Epoch 79/80\n",
            "40/40 - 19s - loss: 0.3123 - accuracy: 0.8863 - val_loss: 0.2617 - val_accuracy: 0.9000\n",
            "Epoch 80/80\n",
            "40/40 - 19s - loss: 0.2821 - accuracy: 0.8875 - val_loss: 0.2618 - val_accuracy: 0.9062\n"
          ],
          "name": "stdout"
        }
      ]
    },
    {
      "cell_type": "code",
      "metadata": {
        "colab": {
          "base_uri": "https://localhost:8080/",
          "height": 562
        },
        "id": "lp-p-wlHLG7Y",
        "outputId": "c38c9ef8-ef61-4451-9e0c-e8517df9ddbb"
      },
      "source": [
        "import matplotlib.pyplot as plt\n",
        "\n",
        "# acc = history.history['accuracy']\n",
        "# val_acc = history.history['val_accuracy']\n",
        "# loss = history.history['loss']\n",
        "# val_loss = history.history['val_loss']\n",
        "\n",
        "acc += history.history['accuracy']\n",
        "val_acc += history.history['val_accuracy']\n",
        "loss += history.history['loss']\n",
        "val_loss += history.history['val_loss']\n",
        "\n",
        "epochs = range(len(acc))\n",
        "\n",
        "plt.plot(epochs, acc)\n",
        "plt.plot(epochs, val_acc)\n",
        "plt.title('Training and validation accuracy')\n",
        "plt.figure()\n",
        "\n",
        "plt.plot(epochs, loss)\n",
        "plt.plot(epochs, val_loss)\n",
        "plt.title ('Training and validation loss')"
      ],
      "execution_count": 195,
      "outputs": [
        {
          "output_type": "execute_result",
          "data": {
            "text/plain": [
              "Text(0.5, 1.0, 'Training and validation loss')"
            ]
          },
          "metadata": {
            "tags": []
          },
          "execution_count": 195
        },
        {
          "output_type": "display_data",
          "data": {
            "image/png": "[encoded data removed]",
            "text/plain": [
              "<Figure size 432x288 with 1 Axes>"
            ]
          },
          "metadata": {
            "tags": [],
            "needs_background": "light"
          }
        },
        {
          "output_type": "display_data",
          "data": {
            "image/png": "[encoded data removed]",
            "text/plain": [
              "<Figure size 432x288 with 1 Axes>"
            ]
          },
          "metadata": {
            "tags": [],
            "needs_background": "light"
          }
        }
      ]
    },
    {
      "cell_type": "code",
      "metadata": {
        "id": "CU-v_VGjLA0w",
        "colab": {
          "resources": {
            "http://localhost:8080/nbextensions/google.colab/files.js": {
              "data": "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",
              "ok": true,
              "headers": [
                [
                  "content-type",
                  "application/javascript"
                ]
              ],
              "status": 200,
              "status_text": ""
            }
          },
          "base_uri": "https://localhost:8080/",
          "height": 1000
        },
        "outputId": "a5a1885a-e7e3-43b6-953d-4d148dcf88cc"
      },
      "source": [
        "import numpy as np\n",
        "import os\n",
        "from google.colab import files\n",
        "from keras.preprocessing import image\n",
        "\n",
        "uploaded = files.upload()\n",
        "\n",
        "for fn in uploaded.keys():\n",
        "  path = '/content/uploaded-test/' + fn\n",
        "  uploaded_path = '/content/' + fn\n",
        "  os.replace(uploaded_path, path)\n",
        "  img = image.load_img(path, target_size=(IMG_WIDTH, IMG_HEIGHT))\n",
        "  \n",
        "  x = image.img_to_array(img)\n",
        "  x = np.expand_dims(x, axis=0)\n",
        "  images = np.vstack([x])\n",
        "  \n",
        "  classes_pred = model.predict(images, batch_size=10)\n",
        "  wayang_class = np.argmax(classes_pred)\n",
        "\n",
        "  print('{} is {}'.format(fn, wayang_labels[wayang_class]))\n",
        "  print(classes_pred)"
      ],
      "execution_count": 197,
      "outputs": [
        {
          "output_type": "display_data",
          "data": {
            "text/html": [
              "\n",
              "     <input type=\"file\" id=\"files-8b919149-f0fe-4afc-9820-8879c94f5d8a\" name=\"files[]\" multiple disabled\n",
              "        style=\"border:none\" />\n",
              "     <output id=\"result-8b919149-f0fe-4afc-9820-8879c94f5d8a\">\n",
              "      Upload widget is only available when the cell has been executed in the\n",
              "      current browser session. Please rerun this cell to enable.\n",
              "      </output>\n",
              "      <script src=\"/nbextensions/google.colab/files.js\"></script> "
            ],
            "text/plain": [
              "<IPython.core.display.HTML object>"
            ]
          },
          "metadata": {
            "tags": []
          }
        },
        {
          "output_type": "stream",
          "text": [
            "Saving bagong (1).jpg to bagong (1).jpg\n",
            "Saving bagong (4).jpg to bagong (4).jpg\n",
            "Saving bagong (9).jpg to bagong (9).jpg\n",
            "Saving bagong (16).jpg to bagong (16).jpg\n",
            "Saving bagong (21).jpg to bagong (21).jpg\n",
            "Saving bagong (25).jpg to bagong (25).jpg\n",
            "Saving bagong (28).jpg to bagong (28).jpg\n",
            "Saving gareng (2).jpg to gareng (2).jpg\n",
            "Saving gareng (4).jpg to gareng (4).jpg\n",
            "Saving gareng (9).jpg to gareng (9).jpg\n",
            "Saving gareng (10).jpg to gareng (10).jpg\n",
            "Saving gareng (21).jpg to gareng (21).jpg\n",
            "Saving gareng (28).jpg to gareng (28).jpg\n",
            "Saving petruk (3).jpg to petruk (3).jpg\n",
            "Saving petruk (9).jpg to petruk (9).jpg\n",
            "Saving petruk (10).jpg to petruk (10).jpg\n",
            "Saving petruk (21).jpg to petruk (21).jpg\n",
            "Saving petruk (22).jpg to petruk (22).jpg\n",
            "Saving petruk (28).jpg to petruk (28).jpg\n",
            "Saving semar (15).jpg to semar (15).jpg\n",
            "Saving semar (21).jpg to semar (21).jpg\n",
            "Saving semar (29).jpg to semar (29).jpg\n",
            "bagong (1).jpg is semar\n",
            "[[0.39341685 0.09682819 0.04205189 0.46770296]]\n",
            "bagong (4).jpg is semar\n",
            "[[0.19379817 0.07554454 0.06622285 0.66443443]]\n",
            "bagong (9).jpg is semar\n",
            "[[0.22013585 0.04576299 0.0728295  0.66127163]]\n",
            "bagong (16).jpg is semar\n",
            "[[0.10898814 0.128276   0.0291628  0.73357296]]\n",
            "bagong (21).jpg is semar\n",
            "[[0.10821138 0.06146584 0.08389357 0.74642926]]\n",
            "bagong (25).jpg is semar\n",
            "[[0.21214435 0.19694427 0.06057622 0.5303351 ]]\n",
            "bagong (28).jpg is semar\n",
            "[[0.09943087 0.18414831 0.06815079 0.64826995]]\n",
            "gareng (2).jpg is semar\n",
            "[[0.0984573  0.2790421  0.21255283 0.40994772]]\n",
            "gareng (4).jpg is semar\n",
            "[[0.06118133 0.10005534 0.06961835 0.76914495]]\n",
            "gareng (9).jpg is petruk\n",
            "[[0.01458106 0.02674044 0.8079669  0.15071164]]\n",
            "gareng (10).jpg is semar\n",
            "[[0.13577603 0.10270528 0.11498017 0.6465385 ]]\n",
            "gareng (21).jpg is semar\n",
            "[[0.13109891 0.09761742 0.07867324 0.6926105 ]]\n",
            "gareng (28).jpg is semar\n",
            "[[0.13689023 0.12605913 0.11663496 0.6204157 ]]\n",
            "petruk (3).jpg is semar\n",
            "[[0.0370333  0.06155383 0.10682637 0.79458654]]\n",
            "petruk (9).jpg is semar\n",
            "[[0.04487279 0.03548544 0.19197457 0.7276672 ]]\n",
            "petruk (10).jpg is semar\n",
            "[[0.04398591 0.02602941 0.09940005 0.8305846 ]]\n",
            "petruk (21).jpg is semar\n",
            "[[0.28562146 0.00625912 0.0812932  0.62682617]]\n",
            "petruk (22).jpg is semar\n",
            "[[0.04398591 0.02602941 0.09940005 0.8305846 ]]\n",
            "petruk (28).jpg is semar\n",
            "[[0.05857148 0.01205834 0.16246204 0.76690817]]\n",
            "semar (15).jpg is semar\n",
            "[[0.04455637 0.11086925 0.04284307 0.80173135]]\n",
            "semar (21).jpg is gareng\n",
            "[[0.31285837 0.42754102 0.07859036 0.18101028]]\n",
            "semar (29).jpg is semar\n",
            "[[0.06935893 0.01556613 0.02648191 0.888593  ]]\n"
          ],
          "name": "stdout"
        }
      ]
    },
    {
      "cell_type": "code",
      "metadata": {
        "id": "vmRK5IfGcfsV"
      },
      "source": [
        "test_zip = '/content/wayang-test.zip'\n",
        "\n",
        "zip_ref = zipfile.ZipFile(test_zip, 'r')\n",
        "\n",
        "zip_ref.extractall('/content')\n",
        "zip_ref.close()"
      ],
      "execution_count": null,
      "outputs": []
    },
    {
      "cell_type": "code",
      "metadata": {
        "colab": {
          "base_uri": "https://localhost:8080/"
        },
        "id": "Kw6bFoXjbhQE",
        "outputId": "88e087ee-3dfb-4333-96b2-3da0dc100d2a"
      },
      "source": [
        "test_dir = '/content/test'\n",
        "\n",
        "test_generator = train_datagen.flow_from_directory(test_dir,\n",
        "                                                   batch_size=1,\n",
        "                                                   class_mode='categorical',\n",
        "                                                   target_size=(IMG_HEIGHT, IMG_WIDTH)) "
      ],
      "execution_count": 149,
      "outputs": [
        {
          "output_type": "stream",
          "text": [
            "Found 120 images belonging to 4 classes.\n"
          ],
          "name": "stdout"
        }
      ]
    },
    {
      "cell_type": "code",
      "metadata": {
        "colab": {
          "base_uri": "https://localhost:8080/"
        },
        "id": "KJiTx-9SdKBp",
        "outputId": "368f574b-5ac4-45c4-df61-f2d76237d694"
      },
      "source": [
        "model.evaluate(test_generator,\n",
        "               batch_size=1,\n",
        "               steps=120,\n",
        "               verbose=1)\n",
        "\n",
        "# model.evaluate(train_generator,\n",
        "#                batch_size=train_batch,\n",
        "#                steps=train_epoch,\n",
        "#                verbose=2)"
      ],
      "execution_count": 198,
      "outputs": [
        {
          "output_type": "stream",
          "text": [
            "120/120 [==============================] - 1s 8ms/step - loss: 0.0411 - accuracy: 1.0000\n"
          ],
          "name": "stdout"
        },
        {
          "output_type": "execute_result",
          "data": {
            "text/plain": [
              "[0.04113634675741196, 1.0]"
            ]
          },
          "metadata": {
            "tags": []
          },
          "execution_count": 198
        }
      ]
    },
    {
      "cell_type": "code",
      "metadata": {
        "colab": {
          "base_uri": "https://localhost:8080/"
        },
        "id": "KcVGMktNZ_NV",
        "outputId": "edec1fc1-9a7b-424b-9632-abd8a3b65087"
      },
      "source": [
        "modelBaseName = 'wayang-mobilenet-v4'\n",
        "modelTFLite = modelBaseName + '.tflite'\n",
        "converter = tf.lite.TFLiteConverter.from_keras_model(model)\n",
        "tflite_model = converter.convert()\n",
        "\n",
        "# Save the model.\n",
        "with open(modelTFLite, 'wb') as f:\n",
        "  f.write(tflite_model)"
      ],
      "execution_count": null,
      "outputs": [
        {
          "output_type": "stream",
          "text": [
            "/usr/local/lib/python3.7/dist-packages/tensorflow/python/keras/utils/generic_utils.py:497: CustomMaskWarning: Custom mask layers require a config and must override get_config. When loading, the custom mask layer must be passed to the custom_objects argument.\n",
            "  category=CustomMaskWarning)\n"
          ],
          "name": "stderr"
        },
        {
          "output_type": "stream",
          "text": [
            "INFO:tensorflow:Assets written to: /tmp/tmpl_kwrz9f/assets\n"
          ],
          "name": "stdout"
        }
      ]
    },
    {
      "cell_type": "code",
      "metadata": {
        "colab": {
          "base_uri": "https://localhost:8080/",
          "height": 34
        },
        "id": "BjwCn1wGmmJB",
        "outputId": "0a31cf76-83d2-4193-85ba-aefacc3051d1"
      },
      "source": [
        "from google.colab import files\n",
        "\n",
        "files.download(modelTFLite)"
      ],
      "execution_count": null,
      "outputs": [
        {
          "output_type": "display_data",
          "data": {
            "application/javascript": [
              "\n",
              "    async function download(id, filename, size) {\n",
              "      if (!google.colab.kernel.accessAllowed) {\n",
              "        return;\n",
              "      }\n",
              "      const div = document.createElement('div');\n",
              "      const label = document.createElement('label');\n",
              "      label.textContent = `Downloading \"${filename}\": `;\n",
              "      div.appendChild(label);\n",
              "      const progress = document.createElement('progress');\n",
              "      progress.max = size;\n",
              "      div.appendChild(progress);\n",
              "      document.body.appendChild(div);\n",
              "\n",
              "      const buffers = [];\n",
              "      let downloaded = 0;\n",
              "\n",
              "      const channel = await google.colab.kernel.comms.open(id);\n",
              "      // Send a message to notify the kernel that we're ready.\n",
              "      channel.send({})\n",
              "\n",
              "      for await (const message of channel.messages) {\n",
              "        // Send a message to notify the kernel that we're ready.\n",
              "        channel.send({})\n",
              "        if (message.buffers) {\n",
              "          for (const buffer of message.buffers) {\n",
              "            buffers.push(buffer);\n",
              "            downloaded += buffer.byteLength;\n",
              "            progress.value = downloaded;\n",
              "          }\n",
              "        }\n",
              "      }\n",
              "      const blob = new Blob(buffers, {type: 'application/binary'});\n",
              "      const a = document.createElement('a');\n",
              "      a.href = window.URL.createObjectURL(blob);\n",
              "      a.download = filename;\n",
              "      div.appendChild(a);\n",
              "      a.click();\n",
              "      div.remove();\n",
              "    }\n",
              "  "
            ],
            "text/plain": [
              "<IPython.core.display.Javascript object>"
            ]
          },
          "metadata": {
            "tags": []
          }
        },
        {
          "output_type": "display_data",
          "data": {
            "application/javascript": [
              "download(\"download_cb4e559a-de37-48de-abcf-9bb40b893ab1\", \"wayang-mobilenet-v4.tflite\", 8974084)"
            ],
            "text/plain": [
              "<IPython.core.display.Javascript object>"
            ]
          },
          "metadata": {
            "tags": []
          }
        }
      ]
    }
  ]
}