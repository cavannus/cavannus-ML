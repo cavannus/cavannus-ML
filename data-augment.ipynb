{
 "metadata": {
  "language_info": {
   "codemirror_mode": {
    "name": "ipython",
    "version": 3
   },
   "file_extension": ".py",
   "mimetype": "text/x-python",
   "name": "python",
   "nbconvert_exporter": "python",
   "pygments_lexer": "ipython3",
   "version": "3.8.0"
  },
  "orig_nbformat": 2,
  "kernelspec": {
   "name": "python3",
   "display_name": "Python 3.8.0 64-bit",
   "metadata": {
    "interpreter": {
     "hash": "2db524e06e9f5f4ffedc911c917cb75e12dbc923643829bf417064a77eb14d37"
    }
   }
  }
 },
 "nbformat": 4,
 "nbformat_minor": 2,
 "cells": [
  {
   "cell_type": "code",
   "execution_count": null,
   "metadata": {},
   "outputs": [],
   "source": [
    "import os\n",
    "import zipfile\n",
    "\n",
    "local_zip = 'wayang-new.zip'\n",
    "\n",
    "zip_ref = zipfile.ZipFile(local_zip, 'r')\n",
    "\n",
    "zip_ref.extractall('.')\n",
    "zip_ref.close()"
   ]
  },
  {
   "cell_type": "code",
   "execution_count": 1,
   "metadata": {},
   "outputs": [
    {
     "output_type": "stream",
     "name": "stdout",
     "text": [
      "['bagong', 'gareng', 'petruk', 'semar']\n"
     ]
    }
   ],
   "source": [
    "base_dir = './new-reduced/'\n",
    "\n",
    "wayang_classes = os.listdir(base_dir)\n",
    "print(wayang_classes)"
   ]
  },
  {
   "cell_type": "code",
   "execution_count": 2,
   "metadata": {},
   "outputs": [],
   "source": [
    "import tensorflow as tf\n",
    "from tensorflow.keras.preprocessing.image import ImageDataGenerator"
   ]
  },
  {
   "cell_type": "code",
   "execution_count": 3,
   "metadata": {
    "tags": []
   },
   "outputs": [],
   "source": [
    "image_batch_size = 20\n",
    "aug_image_total = 40\n",
    "\n",
    "new_datagen = ImageDataGenerator(rescale = 1.0/255,\n",
    "                                 horizontal_flip = True,\n",
    "                                #  width_shift_range = 0.1,\n",
    "                                #  height_shift_range = 0.1,\n",
    "                                 fill_mode = 'nearest',\n",
    "                                 rotation_range=15,\n",
    "                                 zoom_range=0.2)"
   ]
  },
  {
   "cell_type": "code",
   "execution_count": 4,
   "metadata": {},
   "outputs": [],
   "source": [
    "augmented_dir = './augmented-reduced'"
   ]
  },
  {
   "cell_type": "code",
   "execution_count": 6,
   "metadata": {},
   "outputs": [
    {
     "output_type": "stream",
     "name": "stdout",
     "text": [
      "Found 46 images belonging to 1 classes.\n",
      "Found 45 images belonging to 1 classes.\n",
      "Found 44 images belonging to 1 classes.\n",
      "Found 48 images belonging to 1 classes.\n"
     ]
    }
   ],
   "source": [
    "for wayang_class in wayang_classes:\n",
    "    aug_image_step = 0\n",
    "    new_generator = new_datagen.flow_from_directory(base_dir, batch_size=image_batch_size,\n",
    "                                                    class_mode='binary', classes=[wayang_class],\n",
    "                                                    target_size=(225, 175),\n",
    "                                                    shuffle=False, save_to_dir='/'.join([augmented_dir, wayang_class]),\n",
    "                                                    save_prefix='', save_format='jpg')\n",
    "    for image_batch in new_generator:\n",
    "        aug_image_step += 1\n",
    "        if aug_image_step > aug_image_total:\n",
    "            break"
   ]
  },
  {
   "cell_type": "code",
   "execution_count": 8,
   "metadata": {},
   "outputs": [
    {
     "output_type": "stream",
     "name": "stdout",
     "text": [
      "Found 2539 images belonging to 4 classes.\n{0: 'bagong', 1: 'gareng', 2: 'petruk', 3: 'semar'}\n"
     ]
    }
   ],
   "source": [
    "new_generator = new_datagen.flow_from_directory(augmented_dir, batch_size=image_batch_size,\n",
    "                                                    class_mode='categorical',\n",
    "                                                    target_size=(225, 175),\n",
    "                                                    )\n",
    "\n",
    "labels_dict = new_generator.class_indices\n",
    "wayang_labels = dict((v, k) for k, v in labels_dict.items())\n",
    "print(wayang_labels)"
   ]
  },
  {
   "cell_type": "code",
   "execution_count": 9,
   "metadata": {},
   "outputs": [
    {
     "output_type": "stream",
     "name": "stdout",
     "text": [
      "{0: 0.9949059561128527, 1: 1.0156, 2: 1.0371732026143792, 3: 0.9559487951807228}\n",
      "C:\\Python38\\lib\\site-packages\\sklearn\\utils\\validation.py:70: FutureWarning: Pass classes=[0 1 2 3], y=[0 0 0 ... 3 3 3] as keyword args. From version 1.0 (renaming of 0.25) passing these as positional arguments will result in an error\n",
      "  warnings.warn(f\"Pass {args_msg} as keyword args. From version \"\n"
     ]
    }
   ],
   "source": [
    "import sklearn\n",
    "import numpy as np\n",
    "\n",
    "class_weight_list = sklearn.utils.class_weight.compute_class_weight('balanced',\n",
    "                                                               np.unique(new_generator.classes),\n",
    "                                                               new_generator.classes)\n",
    "\n",
    "class_weights = {}\n",
    "\n",
    "for k, _ in wayang_labels.items():\n",
    "  class_weights[k] = class_weight_list[k]\n",
    "\n",
    "print(class_weights)"
   ]
  },
  {
   "cell_type": "code",
   "execution_count": 44,
   "metadata": {},
   "outputs": [],
   "source": [
    "train_batch = 20\n",
    "validation_batch = 20"
   ]
  },
  {
   "cell_type": "code",
   "execution_count": 46,
   "metadata": {},
   "outputs": [
    {
     "output_type": "stream",
     "name": "stdout",
     "text": [
      "Found 3575 images belonging to 4 classes.\nFound 893 images belonging to 4 classes.\n"
     ]
    }
   ],
   "source": [
    "train_datagen = ImageDataGenerator(rescale = 1.0/255,\n",
    "                                 horizontal_flip = True,\n",
    "                                 width_shift_range = 0.1,\n",
    "                                 height_shift_range = 0.1,\n",
    "                                 fill_mode = 'nearest',\n",
    "                                 rotation_range=15,\n",
    "                                 zoom_range=0.2,\n",
    "                                 validation_split=0.2)\n",
    "\n",
    "train_generator = train_datagen.flow_from_directory(augmented_dir, batch_size=train_batch,\n",
    "                                                    class_mode='categorical', target_size=(225, 175),\n",
    "                                                    subset='training')\n",
    "\n",
    "validation_generator = train_datagen.flow_from_directory(augmented_dir, batch_size=validation_batch,\n",
    "                                                         class_mode='categorical', target_size=(225, 175),\n",
    "                                                         subset='validation')"
   ]
  },
  {
   "cell_type": "code",
   "execution_count": 7,
   "metadata": {},
   "outputs": [
    {
     "output_type": "error",
     "ename": "ModuleNotFoundError",
     "evalue": "No module named 'sklearn'",
     "traceback": [
      "\u001b[1;31m---------------------------------------------------------------------------\u001b[0m",
      "\u001b[1;31mModuleNotFoundError\u001b[0m                       Traceback (most recent call last)",
      "\u001b[1;32m<ipython-input-7-b7c74cbf5af0>\u001b[0m in \u001b[0;36m<module>\u001b[1;34m\u001b[0m\n\u001b[1;32m----> 1\u001b[1;33m \u001b[1;32mimport\u001b[0m \u001b[0msklearn\u001b[0m\u001b[1;33m\u001b[0m\u001b[1;33m\u001b[0m\u001b[0m\n\u001b[0m",
      "\u001b[1;31mModuleNotFoundError\u001b[0m: No module named 'sklearn'"
     ]
    }
   ],
   "source": [
    "import sklearn"
   ]
  }
 ]
}